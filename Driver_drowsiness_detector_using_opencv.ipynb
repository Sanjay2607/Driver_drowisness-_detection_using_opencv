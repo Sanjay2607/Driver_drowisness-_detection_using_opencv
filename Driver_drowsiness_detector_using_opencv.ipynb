{
 "cells": [
  {
   "cell_type": "code",
   "execution_count": 1,
   "metadata": {},
   "outputs": [],
   "source": [
    "#Importing libraries\n",
    "from scipy.spatial import distance as dist\n",
    "from imutils.video import VideoStream\n",
    "from imutils import face_utils\n",
    "from threading import Thread\n",
    "import numpy as np\n",
    "import argparse\n",
    "import imutils\n",
    "import time\n",
    "import dlib\n",
    "import cv2"
   ]
  },
  {
   "cell_type": "code",
   "execution_count": 2,
   "metadata": {},
   "outputs": [],
   "source": [
    "def eye_aspect_ratio(eye):\n",
    "    #distance between vertical landmark\n",
    "    A = dist.euclidean(eye[1], eye[5])\n",
    "    B = dist.euclidean(eye[2], eye[4])\n",
    "    #distance between horizintal landmark\n",
    "    C = dist.euclidean(eye[0], eye[3])\n",
    "    # Getting average score\n",
    "    ear = (A+B)/(2.0 * C)\n",
    "    return ear"
   ]
  },
  {
   "cell_type": "code",
   "execution_count": 3,
   "metadata": {},
   "outputs": [],
   "source": [
    "def mouth_aspect_ratio(inner):\n",
    "    #Vertical mouth distance\n",
    "    A = dist.euclidean(inner[1], inner[7])\n",
    "    B = dist.euclidean(inner[2], inner[6])\n",
    "    C = dist.euclidean(inner[3], inner[5])\n",
    "    #Horizontal mouth dist\n",
    "    D = dist.euclidean(inner[0], inner[4])\n",
    "    #getting average score\n",
    "    mar = (A + B + C)/(3.0 * D)\n",
    "    return mar"
   ]
  },
  {
   "cell_type": "code",
   "execution_count": 4,
   "metadata": {},
   "outputs": [],
   "source": [
    "#Setting threshold and readme\n",
    "EYE_AR_THRESH = 0.2\n",
    "MOUTH_AR_THRESH = 0.65\n",
    "EYE_AR_CONSEC_FRAMES = 48\n",
    "counter = 0\n",
    "yawn_count = 0 \n",
    "yawn_status = False"
   ]
  },
  {
   "cell_type": "code",
   "execution_count": 5,
   "metadata": {},
   "outputs": [],
   "source": [
    "#Load the Face Landmark File and load algorithm \n",
    "path = 'shape_predictor_68_face_landmarks.dat'\n",
    "detector = dlib.get_frontal_face_detector()\n",
    "predictor = dlib.shape_predictor(path)"
   ]
  },
  {
   "cell_type": "code",
   "execution_count": 6,
   "metadata": {},
   "outputs": [],
   "source": [
    "#Load the facial landmark points for left eye, right eye and mouth\n",
    "(lStart, lEnd) = face_utils.FACIAL_LANDMARKS_IDXS[\"left_eye\"]\n",
    "(rStart, rEnd) = face_utils.FACIAL_LANDMARKS_IDXS[\"right_eye\"]\n",
    "(iStart, iEnd) = face_utils.FACIAL_LANDMARKS_IDXS[\"inner_mouth\"]"
   ]
  },
  {
   "cell_type": "code",
   "execution_count": 7,
   "metadata": {},
   "outputs": [],
   "source": [
    "vs = VideoStream(src=0).start()\n",
    "time.sleep(1.0)\n",
    "\n",
    "while True:\n",
    "    prev_yawn_status = yawn_status\n",
    "    frame = vs.read()\n",
    "    frame = imutils.resize(frame, width=450)\n",
    "    gray = cv2.cvtColor(frame, cv2.COLOR_BGR2GRAY)\n",
    "    rects = detector(gray, 0)\n",
    "    \n",
    "    for rect in rects:\n",
    "        shape = predictor(gray, rect)\n",
    "        shape = face_utils.shape_to_np(shape)\n",
    "\n",
    "        leftEye = shape[lStart:lEnd]\n",
    "        rightEye = shape[rStart:rEnd]\n",
    "        inner = shape[iStart:iEnd]\n",
    "        \n",
    "        leftEAR = eye_aspect_ratio(leftEye)\n",
    "        rightEAR = eye_aspect_ratio(rightEye)\n",
    "        mouthMAR = mouth_aspect_ratio(inner) \n",
    "        \n",
    "        ear = (leftEAR+rightEAR)/2.0\n",
    "        \n",
    "        leftEyeHull = cv2.convexHull(leftEye)\n",
    "        rightEyeHull = cv2.convexHull(rightEye)\n",
    "        innerHull =  cv2.convexHull(inner)\n",
    "        \n",
    "        cv2.drawContours(frame, [leftEyeHull], -1,(0,255,0),1)\n",
    "        cv2.drawContours(frame, [rightEyeHull], -1,(0,255,0),1)\n",
    "        cv2.drawContours(frame, [innerHull], -1,(255,255,0),1)\n",
    "        \n",
    "        if mouthMAR>MOUTH_AR_THRESH:\n",
    "            yawn_status = True\n",
    "            cv2.putText(frame,\"Yawning Alert!!!\",(10,30),cv2.FONT_HERSHEY_SIMPLEX,0.7, (0,0,255),2)\n",
    "        else:\n",
    "            yawn_status = False\n",
    "        if prev_yawn_status == True and yawn_status == False:\n",
    "            yawn_count += 1\n",
    "        \n",
    "        if ear< EYE_AR_THRESH or yawn_count>30:\n",
    "            counter += 1\n",
    "            if counter>=EYE_AR_CONSEC_FRAMES:\n",
    "                cv2.putText(frame,\"Drowsiness Alert!!!\",(10,30),cv2.FONT_HERSHEY_SIMPLEX,0.7, (0,0,255),2)\n",
    "        else:\n",
    "            COUNTER = 0\n",
    "        cv2.putText(frame, \"EAR: {:.2f}\".format(ear), (300, 30),\n",
    "                    cv2.FONT_HERSHEY_SIMPLEX, 0.7, (0, 0, 255), 2)\n",
    "        cv2.putText(frame, \"Yawn: {:.2f}\".format(yawn_count), (300, 100),\n",
    "                    cv2.FONT_HERSHEY_SIMPLEX, 0.7, (0, 0, 255), 2)\n",
    "        \n",
    "    cv2.imshow(\"Frame\",frame)\n",
    "    key = cv2.waitKey(1)&0xFF\n",
    "    if key== ord(\"q\"):\n",
    "        break\n",
    "        \n",
    "        \n",
    "cv2.destroyAllWindows()\n",
    "vs.stop()"
   ]
  },
  {
   "cell_type": "code",
   "execution_count": null,
   "metadata": {},
   "outputs": [],
   "source": []
  }
 ],
 "metadata": {
  "kernelspec": {
   "display_name": "Python 3",
   "language": "python",
   "name": "python3"
  },
  "language_info": {
   "codemirror_mode": {
    "name": "ipython",
    "version": 3
   },
   "file_extension": ".py",
   "mimetype": "text/x-python",
   "name": "python",
   "nbconvert_exporter": "python",
   "pygments_lexer": "ipython3",
   "version": "3.7.5"
  }
 },
 "nbformat": 4,
 "nbformat_minor": 2
}
